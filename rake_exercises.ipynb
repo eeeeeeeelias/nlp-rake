{
 "nbformat": 4,
 "nbformat_minor": 0,
 "metadata": {
  "colab": {
   "name": "RAKE exercises.ipynb",
   "provenance": [],
   "collapsed_sections": []
  },
  "kernelspec": {
   "name": "python3",
   "display_name": "Python 3"
  },
  "language_info": {
   "name": "python"
  }
 },
 "cells": [
  {
   "cell_type": "markdown",
   "source": [
    "### Exercise 1"
   ],
   "metadata": {
    "id": "ncT1Se8-LFA6"
   }
  },
  {
   "cell_type": "markdown",
   "source": [
    "Given short paragraph:\n",
    "\n",
    "`Anthony Martial is looking to score in consecutive Premier League appearances for the first time since July 2020.`"
   ],
   "metadata": {
    "id": "qPVZpX6bKT8X"
   }
  },
  {
   "cell_type": "markdown",
   "source": [
    "Split this paragraph into phrases (_phrase_ here is word or combination of words between two delimiters).\n",
    "\n",
    "For this exercise, let __is looking to__ be a delimiter.\n",
    "\n",
    "Write 5 phrases you get in the field below."
   ],
   "metadata": {
    "id": "rwyxlUoIMX1v"
   }
  },
  {
   "cell_type": "code",
   "source": [
    "# Your answer here"
   ],
   "metadata": {
    "id": "3xVAJKMMLTxa"
   },
   "execution_count": null,
   "outputs": []
  },
  {
   "cell_type": "markdown",
   "source": [
    "### Exercise 2"
   ],
   "metadata": {
    "id": "9dR95FywLBo-"
   }
  },
  {
   "cell_type": "markdown",
   "source": [
    "Given a preview of the football match between Machester City and Leeds United in the spring of 2021.\n",
    "\n",
    "__Man City__ have __lost only one__ of __home matches__ against __Leeds United__, back in __2001/02 season__.\n",
    "__City__ are __unbeaten__ in their __last 41 Premier League encounters__ with __promoted sides__ at the __Etihad Stadium__, since a __2-0 loss__ in __2007__.\n",
    "__Leeds’ total__ of __42 points__ from __30 matches__ is their __best result__ in __Premier League__ since __2001/02__, when they __finished fifth__.\n",
    "\n",
    "Phrases (word or combination of words between two delimiters) are bolded."
   ],
   "metadata": {
    "id": "PY2J5DPeKUER"
   }
  },
  {
   "cell_type": "markdown",
   "source": [
    "a. Calculate the contact measure for `Premier` token.\n",
    "\n",
    "_(Hint: if any word collocates with given token twice, count it as two not one)_"
   ],
   "metadata": {
    "id": "KEbTPR6uKUMN"
   }
  },
  {
   "cell_type": "code",
   "source": [
    "# Your answer here"
   ],
   "metadata": {
    "id": "6hZI77-iLaWO"
   },
   "execution_count": null,
   "outputs": []
  },
  {
   "cell_type": "markdown",
   "source": [
    "b. Calculate the contact measure for `last` token."
   ],
   "metadata": {
    "id": "DV_vxlmwKUUI"
   }
  },
  {
   "cell_type": "code",
   "source": [
    "# Your answer here"
   ],
   "metadata": {
    "id": "v8-7qZOHLdsH"
   },
   "execution_count": null,
   "outputs": []
  },
  {
   "cell_type": "markdown",
   "source": [
    "c. Calculate the degree measure for `lost` token."
   ],
   "metadata": {
    "id": "meiqv1cuKUck"
   }
  },
  {
   "cell_type": "code",
   "source": [
    "# Your answer here"
   ],
   "metadata": {
    "id": "XEECJ-7JLfdV"
   },
   "execution_count": null,
   "outputs": []
  },
  {
   "cell_type": "markdown",
   "source": [
    "d. Calculate the degree measure for `unbeaten` token."
   ],
   "metadata": {
    "id": "p0TgWd_HKKOI"
   }
  },
  {
   "cell_type": "code",
   "source": [
    "# Your answer here"
   ],
   "metadata": {
    "id": "Xmbimu3ULg_w"
   },
   "execution_count": null,
   "outputs": []
  },
  {
   "cell_type": "markdown",
   "source": [
    "e. Calculate the RAKE-measure for `2007` phrase."
   ],
   "metadata": {
    "id": "SG6oihZGKLA0"
   }
  },
  {
   "cell_type": "code",
   "source": [
    "# Your answer here"
   ],
   "metadata": {
    "id": "JFmlZgujLiCe"
   },
   "execution_count": null,
   "outputs": []
  },
  {
   "cell_type": "markdown",
   "source": [
    "f. Calculate the RAKE-measure for `Man City` phrase."
   ],
   "metadata": {
    "id": "2jglRH2qKLLc"
   }
  },
  {
   "cell_type": "code",
   "source": [
    "# Your answer here"
   ],
   "metadata": {
    "id": "02K5KUSgLjE7"
   },
   "execution_count": null,
   "outputs": []
  },
  {
   "cell_type": "markdown",
   "source": [
    "g. Calculate the RAKE-measure for `lost only one` phrase."
   ],
   "metadata": {
    "id": "xMYfQS-oKLTR"
   }
  },
  {
   "cell_type": "code",
   "source": [
    "# Your answer here"
   ],
   "metadata": {
    "id": "3o6n5lgZLkN3"
   },
   "execution_count": null,
   "outputs": []
  },
  {
   "cell_type": "markdown",
   "source": [
    "h. Calculate the RAKE-measure for `Etihad Stadium` phrase."
   ],
   "metadata": {
    "id": "Q6Nq9D9FKLa3"
   }
  },
  {
   "cell_type": "code",
   "source": [
    "# Your answer here"
   ],
   "metadata": {
    "id": "h9ehIYhvLlsr"
   },
   "execution_count": null,
   "outputs": []
  },
  {
   "cell_type": "markdown",
   "source": [
    "i. Calculate the RAKE-measure for `last 41 Premier League encounters` phrase."
   ],
   "metadata": {
    "id": "Vaqvs4Y-KLi-"
   }
  },
  {
   "cell_type": "code",
   "source": [
    "# Your answer here"
   ],
   "metadata": {
    "id": "BIcWq1qoK976"
   },
   "execution_count": null,
   "outputs": []
  }
 ]
}